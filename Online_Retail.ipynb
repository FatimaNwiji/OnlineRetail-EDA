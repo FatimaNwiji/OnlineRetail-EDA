{
 "cells": [
  {
   "cell_type": "code",
   "execution_count": 5,
   "metadata": {},
   "outputs": [
    {
     "name": "stdout",
     "output_type": "stream",
     "text": [
      "6865\n"
     ]
    }
   ],
   "source": [
    "# Import libraries\n",
    "import pandas as pd\n",
    "import numpy as np\n",
    "import matplotlib.pyplot as plt\n",
    "import seaborn as sns\n",
    "\n",
    "# Load dataset\n",
    "df = pd.read_excel('C:/Users/HP/Desktop/online_retail_II.xlsx')\n",
    "\n",
    "# Display first 5 rows\n",
    "df.head()\n",
    " \n",
    "# Display all column names\n",
    "df.columns\n",
    "\n"
   ]
  },
  {
   "cell_type": "code",
   "execution_count": 7,
   "metadata": {},
   "outputs": [
    {
     "name": "stdout",
     "output_type": "stream",
     "text": [
      "6865\n",
      "<class 'pandas.core.frame.DataFrame'>\n",
      "Index: 504731 entries, 0 to 525460\n",
      "Data columns (total 8 columns):\n",
      " #   Column       Non-Null Count   Dtype         \n",
      "---  ------       --------------   -----         \n",
      " 0   Invoice      504731 non-null  object        \n",
      " 1   StockCode    504731 non-null  object        \n",
      " 2   Description  504731 non-null  object        \n",
      " 3   Quantity     504731 non-null  int64         \n",
      " 4   InvoiceDate  504731 non-null  datetime64[ns]\n",
      " 5   Price        504731 non-null  float64       \n",
      " 6   Customer ID  400916 non-null  float64       \n",
      " 7   Country      504731 non-null  object        \n",
      "dtypes: datetime64[ns](1), float64(2), int64(1), object(4)\n",
      "memory usage: 34.7+ MB\n"
     ]
    }
   ],
   "source": [
    "# Check missing values\n",
    "df.isnull().sum()\n",
    "\n",
    "# Drop rows with missing Description (Sales without description is meaningless.)\n",
    "df.dropna(subset=['Description'], inplace=True)\n",
    "\n",
    "#you can also drop the null values in Customer ID (optional — based on your choice)\n",
    "\n",
    "#Display Duplicate values\n",
    "print(df.duplicated().sum())\n",
    "\n",
    "\n",
    "# Remove duplicates\n",
    "df.drop_duplicates(inplace=True)\n",
    "\n",
    "# Remove negative or zero quantities and prices\n",
    "df = df[(df['Quantity'] > 0) & (df['Price'] > 0)]\n",
    "\n",
    "# Confirm cleaning\n",
    "df.info()\n"
   ]
  }
 ],
 "metadata": {
  "kernelspec": {
   "display_name": "Python 3",
   "language": "python",
   "name": "python3"
  },
  "language_info": {
   "codemirror_mode": {
    "name": "ipython",
    "version": 3
   },
   "file_extension": ".py",
   "mimetype": "text/x-python",
   "name": "python",
   "nbconvert_exporter": "python",
   "pygments_lexer": "ipython3",
   "version": "3.10.0"
  }
 },
 "nbformat": 4,
 "nbformat_minor": 2
}
